{
 "cells": [
  {
   "cell_type": "markdown",
   "metadata": {},
   "source": [
    "1.1 Write a Python Program(with class concepts) to find the area of the triangle using the below\n",
    "formula.\n",
    "area = (s*(s-a)*(s-b)*(s-c)) ** 0.5\n",
    "Function to take the length of the sides of triangle from user should be defined in the parent\n",
    "class and function to calculate the area should be defined in subclass."
   ]
  },
  {
   "cell_type": "code",
   "execution_count": 5,
   "metadata": {},
   "outputs": [
    {
     "name": "stdout",
     "output_type": "stream",
     "text": [
      "Enter side a :6\n",
      "Enter side b :7\n",
      "Enter side c :8\n",
      "Area of a Triangle = 20.33316256758894\n"
     ]
    }
   ],
   "source": [
    "class Triangle:\n",
    "    def __init__(self):\n",
    "        self.a=int(input('Enter side a :'))\n",
    "        self.b=int(input('Enter side b :'))\n",
    "        self.c=int(input('Enter side c :'))\n",
    "    \n",
    "class Area(Triangle):\n",
    "    def area(self):\n",
    "        s=(self.a+self.b+self.c)/2\n",
    "        area=(s*(s-self.a)*(s-self.b)*(s-self.c))**0.5\n",
    "        print(\"Area of a Triangle =\",area)\n",
    "        \n",
    " \n",
    "a = Area()\n",
    "a.area()"
   ]
  },
  {
   "cell_type": "markdown",
   "metadata": {},
   "source": [
    "1.2 Write a function filter_long_words() that takes a list of words and an integer n and returns\n",
    "the list of words that are longer than n."
   ]
  },
  {
   "cell_type": "code",
   "execution_count": 14,
   "metadata": {},
   "outputs": [
    {
     "name": "stdout",
     "output_type": "stream",
     "text": [
      "Enter words separated by space:\tApple Ball Cat Dog Elephant Rhinocerus Hippopotamus\n",
      "Enter a number:\t5\n",
      "longer words are\t ['Elephant', 'Rhinocerus', 'Hippopotamus']\n"
     ]
    }
   ],
   "source": [
    "def filter_long_words(lst,n):\n",
    "    l=list()\n",
    "    for i in lst:\n",
    "        if len(i)>n:\n",
    "            l.append(i)\n",
    "    print(\"longer words are\\t\" ,l)        \n",
    "    \n",
    "lst=[]\n",
    "lst=input(\"Enter words separated by space:\\t\").split()\n",
    "a=int(input(\"Enter a number:\\t\"))\n",
    "filter_long_words(lst,a)\n",
    "    "
   ]
  },
  {
   "cell_type": "markdown",
   "metadata": {},
   "source": [
    "##2.1 Write a Python program using function concept that maps list of words into a list of integers\n",
    "representing the lengths of the corresponding words.\n",
    "Hint: If a list [ ab,cde,erty] is passed on to the python function output should come as [2,3,4]\n",
    "Here 2,3 and 4 are the lengths of the words in the list."
   ]
  },
  {
   "cell_type": "code",
   "execution_count": 22,
   "metadata": {},
   "outputs": [
    {
     "name": "stdout",
     "output_type": "stream",
     "text": [
      "Enter a list with space:\tHeaven and the Hell\n"
     ]
    },
    {
     "data": {
      "text/plain": [
       "[6, 3, 3, 4]"
      ]
     },
     "execution_count": 22,
     "metadata": {},
     "output_type": "execute_result"
    }
   ],
   "source": [
    "def length(w):\n",
    "    return len(w)\n",
    "    \n",
    "lst=input('Enter a list with space:\\t').split()\n",
    "final_lst=map(length,lst)\n",
    "list(final_lst)"
   ]
  },
  {
   "cell_type": "markdown",
   "metadata": {},
   "source": [
    "2.2 Write a Python function which takes a character (i.e. a string of length 1) and returns True if\n",
    "it is a vowel, False otherwise."
   ]
  },
  {
   "cell_type": "code",
   "execution_count": 25,
   "metadata": {},
   "outputs": [
    {
     "name": "stdout",
     "output_type": "stream",
     "text": [
      "Enter a character:\tu\n",
      "Entered character is a vowel\n"
     ]
    }
   ],
   "source": [
    "def vowel(char):\n",
    "    if char=='a'or char=='e' or char=='i' or char=='o' or char=='u':\n",
    "        return True\n",
    "    else:\n",
    "        return False\n",
    "\n",
    "char=input(\"Enter a character:\\t\")\n",
    "if vowel(char):\n",
    "    print(\"Entered character is a vowel\")\n",
    "else:\n",
    "    print(\"Entered character isn't a vowel:\\t\")"
   ]
  },
  {
   "cell_type": "code",
   "execution_count": null,
   "metadata": {},
   "outputs": [],
   "source": []
  },
  {
   "cell_type": "code",
   "execution_count": null,
   "metadata": {},
   "outputs": [],
   "source": []
  }
 ],
 "metadata": {
  "kernelspec": {
   "display_name": "Python 3",
   "language": "python",
   "name": "python3"
  },
  "language_info": {
   "codemirror_mode": {
    "name": "ipython",
    "version": 3
   },
   "file_extension": ".py",
   "mimetype": "text/x-python",
   "name": "python",
   "nbconvert_exporter": "python",
   "pygments_lexer": "ipython3",
   "version": "3.8.3"
  }
 },
 "nbformat": 4,
 "nbformat_minor": 4
}
